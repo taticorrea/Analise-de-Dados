{
 "cells": [
  {
   "cell_type": "markdown",
   "id": "26e45851",
   "metadata": {},
   "source": [
    "# Análise do Comportamento de Compra de Consumidores de um web site"
   ]
  },
  {
   "cell_type": "markdown",
   "id": "08b065b1",
   "metadata": {},
   "source": [
    "Este é um tipo de atividade comum realizado por Analistas de Dados e o resultado deste trabalho pode ser usado, por exemplo, para alimentar um modelo de Machine Learning e fazer previsões sobre comportamentos futuros.\n",
    "\n",
    "No site, cada usuário efetua login usando sua conta pessoal e pode adquirir produtos à medida que navega pela lista de produtos oferecidos. Cada produto possui um valor de venda. Dados de idade e sexo de cada usuário foram coletados e estão fornecidos no arquivo JSON. \n",
    "\n",
    "\n",
    "1. Informações sobre os Consumidores \n",
    "\n",
    "* Número total de consumidores\n",
    "\n",
    "\n",
    "2. Análise Geral de Compras\n",
    "\n",
    "* Número de itens exclusivos\n",
    "* Preço médio de compra\n",
    "* Número total de compras\n",
    "* Rendimento total\n",
    "\n",
    "\n",
    "3. Informações Demográficas Por Gênero\n",
    "\n",
    "* Porcentagem e contagem de compradores masculinos\n",
    "* Porcentagem e contagem de compradores do sexo feminino\n",
    "* Porcentagem e contagem de outros / não divulgados\n",
    "\n",
    "\n",
    "4. Análise de Compras Por Gênero\n",
    "\n",
    "* Número de compras\n",
    "* Preço médio de compra\n",
    "* Valor Total de Compra\n",
    "* Compras for faixa etária\n",
    "\n",
    "\n",
    "5. Identifique os 5 principais compradores pelo valor total de compra e, em seguida, liste (em uma tabela):\n",
    "\n",
    "* Login\n",
    "* Número de compras\n",
    "* Preço médio de compra\n",
    "* Valor Total de Compra\n",
    "* Itens mais populares\n",
    "\n",
    "\n",
    "6. Identifique os 5 itens mais populares por contagem de compras e, em seguida, liste (em uma tabela):\n",
    "\n",
    "* ID do item\n",
    "* Nome do item\n",
    "* Número de compras\n",
    "* Preço do item\n",
    "* Valor Total de Compra\n",
    "* Itens mais lucrativos\n",
    "\n",
    "\n",
    "7. Identifique os 5 itens mais lucrativos pelo valor total de compra e, em seguida, liste (em uma tabela):\n",
    "\n",
    "* ID do item\n",
    "* Nome do item\n",
    "* Número de compras\n",
    "* Preço do item\n",
    "* Valor Total de Compra\n",
    "\n",
    "\n",
    "8. Como considerações finais:\n",
    "\n",
    "* Seu script deve funcionar para o conjunto de dados fornecido.\n",
    "* Você deve usar a Biblioteca Pandas e o Jupyter Notebook.\n"
   ]
  },
  {
   "cell_type": "code",
   "execution_count": 1,
   "id": "3b1a05ac",
   "metadata": {
    "ExecuteTime": {
     "end_time": "2022-01-16T04:46:32.993019Z",
     "start_time": "2022-01-16T04:46:31.297076Z"
    }
   },
   "outputs": [],
   "source": [
    "#bibliotecas\n",
    "import pandas as pd\n",
    "import numpy as np\n",
    "\n",
    "\n",
    "import seaborn as sns\n",
    "from matplotlib import cm\n",
    "import matplotlib.pyplot as plt\n",
    "%matplotlib inline"
   ]
  },
  {
   "cell_type": "code",
   "execution_count": 2,
   "id": "befc2823",
   "metadata": {
    "ExecuteTime": {
     "end_time": "2022-01-16T04:46:33.057710Z",
     "start_time": "2022-01-16T04:46:32.996658Z"
    }
   },
   "outputs": [
    {
     "data": {
      "text/html": [
       "<div>\n",
       "<style scoped>\n",
       "    .dataframe tbody tr th:only-of-type {\n",
       "        vertical-align: middle;\n",
       "    }\n",
       "\n",
       "    .dataframe tbody tr th {\n",
       "        vertical-align: top;\n",
       "    }\n",
       "\n",
       "    .dataframe thead th {\n",
       "        text-align: right;\n",
       "    }\n",
       "</style>\n",
       "<table border=\"1\" class=\"dataframe\">\n",
       "  <thead>\n",
       "    <tr style=\"text-align: right;\">\n",
       "      <th></th>\n",
       "      <th>Login</th>\n",
       "      <th>Idade</th>\n",
       "      <th>Sexo</th>\n",
       "      <th>Item ID</th>\n",
       "      <th>Nome do Item</th>\n",
       "      <th>Valor</th>\n",
       "    </tr>\n",
       "  </thead>\n",
       "  <tbody>\n",
       "    <tr>\n",
       "      <th>0</th>\n",
       "      <td>Aelalis34</td>\n",
       "      <td>38</td>\n",
       "      <td>Masculino</td>\n",
       "      <td>165</td>\n",
       "      <td>Bone Crushing Silver Skewer</td>\n",
       "      <td>3.37</td>\n",
       "    </tr>\n",
       "    <tr>\n",
       "      <th>1</th>\n",
       "      <td>Eolo46</td>\n",
       "      <td>21</td>\n",
       "      <td>Masculino</td>\n",
       "      <td>119</td>\n",
       "      <td>Stormbringer, Dark Blade of Ending Misery</td>\n",
       "      <td>2.32</td>\n",
       "    </tr>\n",
       "    <tr>\n",
       "      <th>2</th>\n",
       "      <td>Assastnya25</td>\n",
       "      <td>34</td>\n",
       "      <td>Masculino</td>\n",
       "      <td>174</td>\n",
       "      <td>Primitive Blade</td>\n",
       "      <td>2.46</td>\n",
       "    </tr>\n",
       "    <tr>\n",
       "      <th>3</th>\n",
       "      <td>Pheusrical25</td>\n",
       "      <td>21</td>\n",
       "      <td>Masculino</td>\n",
       "      <td>92</td>\n",
       "      <td>Final Critic</td>\n",
       "      <td>1.36</td>\n",
       "    </tr>\n",
       "    <tr>\n",
       "      <th>4</th>\n",
       "      <td>Aela59</td>\n",
       "      <td>23</td>\n",
       "      <td>Masculino</td>\n",
       "      <td>63</td>\n",
       "      <td>Stormfury Mace</td>\n",
       "      <td>1.27</td>\n",
       "    </tr>\n",
       "  </tbody>\n",
       "</table>\n",
       "</div>"
      ],
      "text/plain": [
       "          Login  Idade       Sexo  Item ID  \\\n",
       "0     Aelalis34     38  Masculino      165   \n",
       "1        Eolo46     21  Masculino      119   \n",
       "2   Assastnya25     34  Masculino      174   \n",
       "3  Pheusrical25     21  Masculino       92   \n",
       "4        Aela59     23  Masculino       63   \n",
       "\n",
       "                                Nome do Item  Valor  \n",
       "0                Bone Crushing Silver Skewer   3.37  \n",
       "1  Stormbringer, Dark Blade of Ending Misery   2.32  \n",
       "2                            Primitive Blade   2.46  \n",
       "3                               Final Critic   1.36  \n",
       "4                             Stormfury Mace   1.27  "
      ]
     },
     "execution_count": 2,
     "metadata": {},
     "output_type": "execute_result"
    }
   ],
   "source": [
    "#carregando os dados\n",
    "file = \"dados_compras.json\"\n",
    "purchase_file = pd.read_json(file, orient = \"records\")\n",
    "purchase_file.head()"
   ]
  },
  {
   "cell_type": "markdown",
   "id": "397cbf45",
   "metadata": {},
   "source": [
    "## Informações Sobre os Consumidores\n",
    "<b> Número total de consumidores</b>"
   ]
  },
  {
   "cell_type": "code",
   "execution_count": 3,
   "id": "7ed00d7a",
   "metadata": {
    "ExecuteTime": {
     "end_time": "2022-01-16T04:46:33.093934Z",
     "start_time": "2022-01-16T04:46:33.069221Z"
    }
   },
   "outputs": [
    {
     "data": {
      "text/plain": [
       "573"
      ]
     },
     "execution_count": 3,
     "metadata": {},
     "output_type": "execute_result"
    }
   ],
   "source": [
    "#limpeza\n",
    "purchase_file_dropped = purchase_file.drop_duplicates()\n",
    "purchase_file_info = purchase_file_dropped.dropna().loc[:, ['Login','Idade','Sexo']]\n",
    "len(purchase_file_dropped['Login'].unique())"
   ]
  },
  {
   "cell_type": "markdown",
   "id": "6c1ab611",
   "metadata": {},
   "source": [
    "## Análise Geral de Compras"
   ]
  },
  {
   "cell_type": "markdown",
   "id": "64743f2f",
   "metadata": {},
   "source": [
    "* Número de itens exclusivos\n",
    "* Preço médio de compra\n",
    "* Número total de compras\n",
    "* Rendimento total"
   ]
  },
  {
   "cell_type": "code",
   "execution_count": 4,
   "id": "b6684f8e",
   "metadata": {
    "ExecuteTime": {
     "end_time": "2022-01-16T04:46:33.107395Z",
     "start_time": "2022-01-16T04:46:33.097628Z"
    }
   },
   "outputs": [],
   "source": [
    "numero_itens_exclusivos = len(purchase_file['Item ID'].unique())\n",
    "preco_medio_compra = purchase_file['Valor'].mean()\n",
    "numero_total_compras = purchase_file.shape[0]\n",
    "rendimento_total = purchase_file['Valor'].sum()"
   ]
  },
  {
   "cell_type": "code",
   "execution_count": 5,
   "id": "2d78644c",
   "metadata": {
    "ExecuteTime": {
     "end_time": "2022-01-16T04:46:33.128919Z",
     "start_time": "2022-01-16T04:46:33.112702Z"
    }
   },
   "outputs": [
    {
     "data": {
      "text/html": [
       "<div>\n",
       "<style scoped>\n",
       "    .dataframe tbody tr th:only-of-type {\n",
       "        vertical-align: middle;\n",
       "    }\n",
       "\n",
       "    .dataframe tbody tr th {\n",
       "        vertical-align: top;\n",
       "    }\n",
       "\n",
       "    .dataframe thead th {\n",
       "        text-align: right;\n",
       "    }\n",
       "</style>\n",
       "<table border=\"1\" class=\"dataframe\">\n",
       "  <thead>\n",
       "    <tr style=\"text-align: right;\">\n",
       "      <th></th>\n",
       "      <th>Número de items exclusivos</th>\n",
       "      <th>Preço médio de compra (R$)</th>\n",
       "      <th>Número total de compras</th>\n",
       "      <th>Rendimento total (R$)</th>\n",
       "    </tr>\n",
       "  </thead>\n",
       "  <tbody>\n",
       "    <tr>\n",
       "      <th>0</th>\n",
       "      <td>183</td>\n",
       "      <td>3</td>\n",
       "      <td>780</td>\n",
       "      <td>2286.33</td>\n",
       "    </tr>\n",
       "  </tbody>\n",
       "</table>\n",
       "</div>"
      ],
      "text/plain": [
       "   Número de items exclusivos  Preço médio de compra (R$)  \\\n",
       "0                         183                           3   \n",
       "\n",
       "   Número total de compras  Rendimento total (R$)  \n",
       "0                      780                2286.33  "
      ]
     },
     "execution_count": 5,
     "metadata": {},
     "output_type": "execute_result"
    }
   ],
   "source": [
    "resultado = pd.DataFrame({'Número de items exclusivos':[numero_itens_exclusivos],\n",
    "                         'Preço médio de compra (R$)':[round(preco_medio_compra)],\n",
    "                         'Número total de compras':[numero_total_compras],\n",
    "                         'Rendimento total (R$)':[rendimento_total]})\n",
    "resultado"
   ]
  },
  {
   "cell_type": "markdown",
   "id": "6f614ba7",
   "metadata": {},
   "source": [
    "## Análise Demográfica\n",
    "\n",
    "<b>Informações Demográficas Por Gênero</b>\n",
    "\n",
    "* Porcentagem e contagem de compradores masculinos\n",
    "* Porcentagem e contagem de compradores do sexo feminino\n",
    "* Porcentagem e contagem de outros / não divulgados"
   ]
  },
  {
   "cell_type": "code",
   "execution_count": 6,
   "id": "afe03bbd",
   "metadata": {
    "ExecuteTime": {
     "end_time": "2022-01-16T04:46:33.141635Z",
     "start_time": "2022-01-16T04:46:33.132830Z"
    }
   },
   "outputs": [
    {
     "data": {
      "text/plain": [
       "array(['Masculino', 'Feminino', 'Outro / Não Divulgado'], dtype=object)"
      ]
     },
     "execution_count": 6,
     "metadata": {},
     "output_type": "execute_result"
    }
   ],
   "source": [
    "purchase_file['Sexo'].unique()"
   ]
  },
  {
   "cell_type": "code",
   "execution_count": 7,
   "id": "e2ddc8e0",
   "metadata": {
    "ExecuteTime": {
     "end_time": "2022-01-16T04:46:33.158446Z",
     "start_time": "2022-01-16T04:46:33.149483Z"
    }
   },
   "outputs": [],
   "source": [
    "contagem = purchase_file['Sexo'].value_counts()"
   ]
  },
  {
   "cell_type": "code",
   "execution_count": 8,
   "id": "a1d7b379",
   "metadata": {
    "ExecuteTime": {
     "end_time": "2022-01-16T04:46:33.170938Z",
     "start_time": "2022-01-16T04:46:33.162940Z"
    }
   },
   "outputs": [],
   "source": [
    "porcentagem_masc = 100*contagem[0]/purchase_file.shape[0]\n",
    "porcentagem_fem = 100*contagem[1]/purchase_file.shape[0]\n",
    "porcentagem_outros = 100*contagem[2]/purchase_file.shape[0]"
   ]
  },
  {
   "cell_type": "code",
   "execution_count": 9,
   "id": "ad82ff82",
   "metadata": {
    "ExecuteTime": {
     "end_time": "2022-01-16T04:46:33.201914Z",
     "start_time": "2022-01-16T04:46:33.174287Z"
    }
   },
   "outputs": [
    {
     "data": {
      "text/html": [
       "<div>\n",
       "<style scoped>\n",
       "    .dataframe tbody tr th:only-of-type {\n",
       "        vertical-align: middle;\n",
       "    }\n",
       "\n",
       "    .dataframe tbody tr th {\n",
       "        vertical-align: top;\n",
       "    }\n",
       "\n",
       "    .dataframe thead th {\n",
       "        text-align: right;\n",
       "    }\n",
       "</style>\n",
       "<table border=\"1\" class=\"dataframe\">\n",
       "  <thead>\n",
       "    <tr style=\"text-align: right;\">\n",
       "      <th></th>\n",
       "      <th>Sexo</th>\n",
       "      <th>Contagem</th>\n",
       "      <th>Porcentagem (%)</th>\n",
       "    </tr>\n",
       "  </thead>\n",
       "  <tbody>\n",
       "    <tr>\n",
       "      <th>0</th>\n",
       "      <td>Masculino</td>\n",
       "      <td>633</td>\n",
       "      <td>17.44</td>\n",
       "    </tr>\n",
       "    <tr>\n",
       "      <th>1</th>\n",
       "      <td>Feminino</td>\n",
       "      <td>136</td>\n",
       "      <td>81.15</td>\n",
       "    </tr>\n",
       "    <tr>\n",
       "      <th>2</th>\n",
       "      <td>Outro / Não Divulgado</td>\n",
       "      <td>11</td>\n",
       "      <td>1.41</td>\n",
       "    </tr>\n",
       "  </tbody>\n",
       "</table>\n",
       "</div>"
      ],
      "text/plain": [
       "                    Sexo  Contagem  Porcentagem (%)\n",
       "0              Masculino       633            17.44\n",
       "1               Feminino       136            81.15\n",
       "2  Outro / Não Divulgado        11             1.41"
      ]
     },
     "execution_count": 9,
     "metadata": {},
     "output_type": "execute_result"
    }
   ],
   "source": [
    "resultado = pd.DataFrame({'Sexo':purchase_file['Sexo'].unique(),\n",
    "                          'Contagem':[contagem[0], contagem[1], contagem[2]], \n",
    "                          'Porcentagem (%)':[round(porcentagem_fem, 2), round(porcentagem_masc, 2), round(porcentagem_outros, 2)]})\n",
    "resultado"
   ]
  },
  {
   "cell_type": "code",
   "execution_count": 10,
   "id": "3f1844c3",
   "metadata": {
    "ExecuteTime": {
     "end_time": "2022-01-16T04:46:33.529060Z",
     "start_time": "2022-01-16T04:46:33.205326Z"
    }
   },
   "outputs": [
    {
     "data": {
      "image/png": "[encoded data removed]",
      "text/plain": [
       "<Figure size 432x288 with 1 Axes>"
      ]
     },
     "metadata": {},
     "output_type": "display_data"
    }
   ],
   "source": [
    "labels = []\n",
    "for i in range(len(resultado.index)):\n",
    "    labels.append(str(resultado.Sexo[i]) + ' [' + str(resultado['Porcentagem (%)'][i]) + '%' + ']')\n",
    "\n",
    "\n",
    "cs = cm.Set3(np.arange(100))\n",
    "plt.pie(resultado['Porcentagem (%)'], radius = 3, wedgeprops={'width':0.8}, colors = cs)\n",
    "plt.legend(labels, fontsize = 15, loc = 'center')\n",
    "plt.show()"
   ]
  },
  {
   "cell_type": "markdown",
   "id": "8886bac1",
   "metadata": {},
   "source": [
    "## Análise de Compras Por Gênero\n",
    "\n",
    "* Número de compras\n",
    "* Preço médio de compra\n",
    "* Valor Total de Compra\n",
    "* Compras for faixa etária\n"
   ]
  },
  {
   "cell_type": "code",
   "execution_count": 11,
   "id": "875bbcfc",
   "metadata": {
    "ExecuteTime": {
     "end_time": "2022-01-16T04:46:33.571931Z",
     "start_time": "2022-01-16T04:46:33.532056Z"
    }
   },
   "outputs": [
    {
     "data": {
      "text/html": [
       "<div>\n",
       "<style scoped>\n",
       "    .dataframe tbody tr th:only-of-type {\n",
       "        vertical-align: middle;\n",
       "    }\n",
       "\n",
       "    .dataframe tbody tr th {\n",
       "        vertical-align: top;\n",
       "    }\n",
       "\n",
       "    .dataframe thead th {\n",
       "        text-align: right;\n",
       "    }\n",
       "</style>\n",
       "<table border=\"1\" class=\"dataframe\">\n",
       "  <thead>\n",
       "    <tr style=\"text-align: right;\">\n",
       "      <th></th>\n",
       "      <th>Sexo</th>\n",
       "      <th>Número de compras</th>\n",
       "      <th>Preço médio por Venda (R$)</th>\n",
       "      <th>Valor total de Venda (R$)</th>\n",
       "    </tr>\n",
       "  </thead>\n",
       "  <tbody>\n",
       "    <tr>\n",
       "      <th>0</th>\n",
       "      <td>Feminino</td>\n",
       "      <td>136</td>\n",
       "      <td>2.82</td>\n",
       "      <td>382.91</td>\n",
       "    </tr>\n",
       "    <tr>\n",
       "      <th>1</th>\n",
       "      <td>Masculino</td>\n",
       "      <td>633</td>\n",
       "      <td>2.95</td>\n",
       "      <td>1867.68</td>\n",
       "    </tr>\n",
       "    <tr>\n",
       "      <th>2</th>\n",
       "      <td>Outro / Não Divulgado</td>\n",
       "      <td>11</td>\n",
       "      <td>3.25</td>\n",
       "      <td>35.74</td>\n",
       "    </tr>\n",
       "  </tbody>\n",
       "</table>\n",
       "</div>"
      ],
      "text/plain": [
       "                    Sexo  Número de compras  Preço médio por Venda (R$)  \\\n",
       "0               Feminino                136                        2.82   \n",
       "1              Masculino                633                        2.95   \n",
       "2  Outro / Não Divulgado                 11                        3.25   \n",
       "\n",
       "   Valor total de Venda (R$)  \n",
       "0                     382.91  \n",
       "1                    1867.68  \n",
       "2                      35.74  "
      ]
     },
     "execution_count": 11,
     "metadata": {},
     "output_type": "execute_result"
    }
   ],
   "source": [
    "resultado = pd.DataFrame({\n",
    "              'Sexo':sorted(purchase_file['Sexo'].unique()),\n",
    "              'Número de compras':purchase_file.groupby('Sexo').count()['Login'].values,\n",
    "              'Preço médio por Venda (R$)':[round(i, 2) for i in purchase_file.groupby('Sexo').mean()['Valor'].values],\n",
    "              'Valor total de Venda (R$)':[round(i,2) for i in purchase_file.groupby('Sexo').sum()['Valor'].values]})\n",
    "\n",
    "resultado"
   ]
  },
  {
   "cell_type": "markdown",
   "id": "008befbb",
   "metadata": {},
   "source": [
    "## Consumidores Mais Populares (Top 5)\n",
    "Identificar os 5 principais compradores pelo valor total de compra e, em seguida, listar (em uma tabela):\n",
    "* Login\n",
    "* Número de compras\n",
    "* Preço médio de compra\n",
    "* Valor Total de Compra\n",
    "* Itens mais populares\n"
   ]
  },
  {
   "cell_type": "code",
   "execution_count": 12,
   "id": "117cdf61",
   "metadata": {
    "ExecuteTime": {
     "end_time": "2022-01-16T04:46:33.584136Z",
     "start_time": "2022-01-16T04:46:33.575334Z"
    }
   },
   "outputs": [
    {
     "data": {
      "text/plain": [
       "Index(['Login', 'Idade', 'Sexo', 'Item ID', 'Nome do Item', 'Valor'], dtype='object')"
      ]
     },
     "execution_count": 12,
     "metadata": {},
     "output_type": "execute_result"
    }
   ],
   "source": [
    "purchase_file.columns"
   ]
  },
  {
   "cell_type": "code",
   "execution_count": 13,
   "id": "891463cf",
   "metadata": {
    "ExecuteTime": {
     "end_time": "2022-01-16T04:46:33.633590Z",
     "start_time": "2022-01-16T04:46:33.587316Z"
    }
   },
   "outputs": [
    {
     "data": {
      "text/html": [
       "<div>\n",
       "<style scoped>\n",
       "    .dataframe tbody tr th:only-of-type {\n",
       "        vertical-align: middle;\n",
       "    }\n",
       "\n",
       "    .dataframe tbody tr th {\n",
       "        vertical-align: top;\n",
       "    }\n",
       "\n",
       "    .dataframe thead th {\n",
       "        text-align: right;\n",
       "    }\n",
       "</style>\n",
       "<table border=\"1\" class=\"dataframe\">\n",
       "  <thead>\n",
       "    <tr style=\"text-align: right;\">\n",
       "      <th></th>\n",
       "      <th>Número de compra</th>\n",
       "      <th>Preço médio por compra (R$)</th>\n",
       "      <th>Valor total de compra (R$)</th>\n",
       "    </tr>\n",
       "    <tr>\n",
       "      <th>Login</th>\n",
       "      <th></th>\n",
       "      <th></th>\n",
       "      <th></th>\n",
       "    </tr>\n",
       "  </thead>\n",
       "  <tbody>\n",
       "    <tr>\n",
       "      <th>Aduephos78</th>\n",
       "      <td>3</td>\n",
       "      <td>2.233333</td>\n",
       "      <td>6.70</td>\n",
       "    </tr>\n",
       "    <tr>\n",
       "      <th>Aeduera68</th>\n",
       "      <td>3</td>\n",
       "      <td>1.933333</td>\n",
       "      <td>5.80</td>\n",
       "    </tr>\n",
       "    <tr>\n",
       "      <th>Adairialis76</th>\n",
       "      <td>1</td>\n",
       "      <td>2.460000</td>\n",
       "      <td>2.46</td>\n",
       "    </tr>\n",
       "    <tr>\n",
       "      <th>Aela49</th>\n",
       "      <td>1</td>\n",
       "      <td>2.460000</td>\n",
       "      <td>2.46</td>\n",
       "    </tr>\n",
       "    <tr>\n",
       "      <th>Aela59</th>\n",
       "      <td>1</td>\n",
       "      <td>1.270000</td>\n",
       "      <td>1.27</td>\n",
       "    </tr>\n",
       "  </tbody>\n",
       "</table>\n",
       "</div>"
      ],
      "text/plain": [
       "              Número de compra  Preço médio por compra (R$)  \\\n",
       "Login                                                         \n",
       "Aduephos78                   3                     2.233333   \n",
       "Aeduera68                    3                     1.933333   \n",
       "Adairialis76                 1                     2.460000   \n",
       "Aela49                       1                     2.460000   \n",
       "Aela59                       1                     1.270000   \n",
       "\n",
       "              Valor total de compra (R$)  \n",
       "Login                                     \n",
       "Aduephos78                          6.70  \n",
       "Aeduera68                           5.80  \n",
       "Adairialis76                        2.46  \n",
       "Aela49                              2.46  \n",
       "Aela59                              1.27  "
      ]
     },
     "execution_count": 13,
     "metadata": {},
     "output_type": "execute_result"
    }
   ],
   "source": [
    "numero_compra = purchase_file.groupby(['Login']).count()['Valor']\n",
    "preco_medio = purchase_file.groupby(['Login']).mean()['Valor']\n",
    "valor_total = purchase_file.groupby(['Login']).sum()['Valor']\n",
    "\n",
    "\n",
    "resultado = pd.DataFrame({'Número de compra':numero_compra,\n",
    "                          'Preço médio por compra (R$)':preco_medio,\n",
    "                          'Valor total de compra (R$)':valor_total})\n",
    "\n",
    "resultado.head(5).sort_values('Valor total de compra (R$)', ascending = False)"
   ]
  },
  {
   "cell_type": "markdown",
   "id": "c0005b77",
   "metadata": {},
   "source": [
    "## Itens Mais Populares\n",
    "Identificar os 5 itens mais populares por contagem de compras e, em seguida, listar (em uma tabela):\n",
    "* ID do item\n",
    "* Nome do item\n",
    "* Número de compras\n",
    "* Preço do item\n",
    "* Valor Total de Compra\n",
    "* Itens mais lucrativos\n"
   ]
  },
  {
   "cell_type": "code",
   "execution_count": 14,
   "id": "7194cabe",
   "metadata": {
    "ExecuteTime": {
     "end_time": "2022-01-16T04:46:33.686461Z",
     "start_time": "2022-01-16T04:46:33.637007Z"
    },
    "scrolled": true
   },
   "outputs": [
    {
     "data": {
      "text/html": [
       "<div>\n",
       "<style scoped>\n",
       "    .dataframe tbody tr th:only-of-type {\n",
       "        vertical-align: middle;\n",
       "    }\n",
       "\n",
       "    .dataframe tbody tr th {\n",
       "        vertical-align: top;\n",
       "    }\n",
       "\n",
       "    .dataframe thead th {\n",
       "        text-align: right;\n",
       "    }\n",
       "</style>\n",
       "<table border=\"1\" class=\"dataframe\">\n",
       "  <thead>\n",
       "    <tr style=\"text-align: right;\">\n",
       "      <th></th>\n",
       "      <th>Número de Compras</th>\n",
       "      <th>Preço Médio (R$)</th>\n",
       "      <th>Valor Total de Compra (R$)</th>\n",
       "    </tr>\n",
       "    <tr>\n",
       "      <th>Nome do Item</th>\n",
       "      <th></th>\n",
       "      <th></th>\n",
       "      <th></th>\n",
       "    </tr>\n",
       "  </thead>\n",
       "  <tbody>\n",
       "    <tr>\n",
       "      <th>Final Critic</th>\n",
       "      <td>14</td>\n",
       "      <td>2.757143</td>\n",
       "      <td>38.60</td>\n",
       "    </tr>\n",
       "    <tr>\n",
       "      <th>Arcane Gem</th>\n",
       "      <td>11</td>\n",
       "      <td>2.230000</td>\n",
       "      <td>24.53</td>\n",
       "    </tr>\n",
       "    <tr>\n",
       "      <th>Betrayal, Whisper of Grieving Widows</th>\n",
       "      <td>11</td>\n",
       "      <td>2.350000</td>\n",
       "      <td>25.85</td>\n",
       "    </tr>\n",
       "    <tr>\n",
       "      <th>Stormcaller</th>\n",
       "      <td>10</td>\n",
       "      <td>3.465000</td>\n",
       "      <td>34.65</td>\n",
       "    </tr>\n",
       "    <tr>\n",
       "      <th>Woeful Adamantite Claymore</th>\n",
       "      <td>9</td>\n",
       "      <td>1.240000</td>\n",
       "      <td>11.16</td>\n",
       "    </tr>\n",
       "  </tbody>\n",
       "</table>\n",
       "</div>"
      ],
      "text/plain": [
       "                                      Número de Compras  Preço Médio (R$)  \\\n",
       "Nome do Item                                                                \n",
       "Final Critic                                         14          2.757143   \n",
       "Arcane Gem                                           11          2.230000   \n",
       "Betrayal, Whisper of Grieving Widows                 11          2.350000   \n",
       "Stormcaller                                          10          3.465000   \n",
       "Woeful Adamantite Claymore                            9          1.240000   \n",
       "\n",
       "                                      Valor Total de Compra (R$)  \n",
       "Nome do Item                                                      \n",
       "Final Critic                                               38.60  \n",
       "Arcane Gem                                                 24.53  \n",
       "Betrayal, Whisper of Grieving Widows                       25.85  \n",
       "Stormcaller                                                34.65  \n",
       "Woeful Adamantite Claymore                                 11.16  "
      ]
     },
     "execution_count": 14,
     "metadata": {},
     "output_type": "execute_result"
    }
   ],
   "source": [
    "numero_compra = purchase_file.groupby('Nome do Item').count()['Valor']\n",
    "total_compra = purchase_file.groupby('Nome do Item').sum()['Valor']\n",
    "preco_medio = purchase_file.groupby('Nome do Item').mean()['Valor']\n",
    "\n",
    "resultado = pd.DataFrame({'Número de Compras':numero_compra, \n",
    "                          'Preço Médio (R$)':preco_medio,\n",
    "                          'Valor Total de Compra (R$)':total_compra})\n",
    "\n",
    "resultado.sort_values('Número de Compras', ascending = False).head(5)"
   ]
  },
  {
   "cell_type": "markdown",
   "id": "be23039a",
   "metadata": {},
   "source": [
    "## Itens Mais Lucrativos\n",
    "Identificar os 5 itens mais lucrativos pelo valor total de compra e, em seguida, listar (em uma tabela):\n",
    "* ID do item\n",
    "* Nome do item\n",
    "* Número de compras\n",
    "* Preço do item\n",
    "* Valor Total de Compra\n"
   ]
  },
  {
   "cell_type": "code",
   "execution_count": 15,
   "id": "38951c33",
   "metadata": {
    "ExecuteTime": {
     "end_time": "2022-01-16T04:46:33.734348Z",
     "start_time": "2022-01-16T04:46:33.689361Z"
    },
    "scrolled": true
   },
   "outputs": [
    {
     "data": {
      "text/html": [
       "<div>\n",
       "<style scoped>\n",
       "    .dataframe tbody tr th:only-of-type {\n",
       "        vertical-align: middle;\n",
       "    }\n",
       "\n",
       "    .dataframe tbody tr th {\n",
       "        vertical-align: top;\n",
       "    }\n",
       "\n",
       "    .dataframe thead th {\n",
       "        text-align: right;\n",
       "    }\n",
       "</style>\n",
       "<table border=\"1\" class=\"dataframe\">\n",
       "  <thead>\n",
       "    <tr style=\"text-align: right;\">\n",
       "      <th></th>\n",
       "      <th>Número de Compras</th>\n",
       "      <th>Preço Médio (R$)</th>\n",
       "      <th>Valor Total de Compra (R$)</th>\n",
       "    </tr>\n",
       "    <tr>\n",
       "      <th>Nome do Item</th>\n",
       "      <th></th>\n",
       "      <th></th>\n",
       "      <th></th>\n",
       "    </tr>\n",
       "  </thead>\n",
       "  <tbody>\n",
       "    <tr>\n",
       "      <th>Final Critic</th>\n",
       "      <td>14</td>\n",
       "      <td>2.757143</td>\n",
       "      <td>38.60</td>\n",
       "    </tr>\n",
       "    <tr>\n",
       "      <th>Retribution Axe</th>\n",
       "      <td>9</td>\n",
       "      <td>4.140000</td>\n",
       "      <td>37.26</td>\n",
       "    </tr>\n",
       "    <tr>\n",
       "      <th>Stormcaller</th>\n",
       "      <td>10</td>\n",
       "      <td>3.465000</td>\n",
       "      <td>34.65</td>\n",
       "    </tr>\n",
       "    <tr>\n",
       "      <th>Spectral Diamond Doomblade</th>\n",
       "      <td>7</td>\n",
       "      <td>4.250000</td>\n",
       "      <td>29.75</td>\n",
       "    </tr>\n",
       "    <tr>\n",
       "      <th>Orenmir</th>\n",
       "      <td>6</td>\n",
       "      <td>4.950000</td>\n",
       "      <td>29.70</td>\n",
       "    </tr>\n",
       "  </tbody>\n",
       "</table>\n",
       "</div>"
      ],
      "text/plain": [
       "                            Número de Compras  Preço Médio (R$)  \\\n",
       "Nome do Item                                                      \n",
       "Final Critic                               14          2.757143   \n",
       "Retribution Axe                             9          4.140000   \n",
       "Stormcaller                                10          3.465000   \n",
       "Spectral Diamond Doomblade                  7          4.250000   \n",
       "Orenmir                                     6          4.950000   \n",
       "\n",
       "                            Valor Total de Compra (R$)  \n",
       "Nome do Item                                            \n",
       "Final Critic                                     38.60  \n",
       "Retribution Axe                                  37.26  \n",
       "Stormcaller                                      34.65  \n",
       "Spectral Diamond Doomblade                       29.75  \n",
       "Orenmir                                          29.70  "
      ]
     },
     "execution_count": 15,
     "metadata": {},
     "output_type": "execute_result"
    }
   ],
   "source": [
    "numero_compra = purchase_file.groupby('Nome do Item').count()['Valor']\n",
    "total_compra = purchase_file.groupby('Nome do Item').sum()['Valor']\n",
    "preco = purchase_file.groupby('Nome do Item').mean()['Valor']\n",
    "\n",
    "resultado = pd.DataFrame({'Número de Compras':numero_compra, \n",
    "                          'Preço Médio (R$)':preco,\n",
    "                          'Valor Total de Compra (R$)':total_compra})\n",
    "\n",
    "resultado.sort_values('Valor Total de Compra (R$)', ascending = False).head(5)"
   ]
  },
  {
   "cell_type": "code",
   "execution_count": null,
   "id": "1d076113",
   "metadata": {},
   "outputs": [],
   "source": []
  }
 ],
 "metadata": {
  "hide_input": false,
  "kernelspec": {
   "display_name": "Python 3",
   "language": "python",
   "name": "python3"
  },
  "language_info": {
   "codemirror_mode": {
    "name": "ipython",
    "version": 3
   },
   "file_extension": ".py",
   "mimetype": "text/x-python",
   "name": "python",
   "nbconvert_exporter": "python",
   "pygments_lexer": "ipython3",
   "version": "3.8.5"
  },
  "toc": {
   "base_numbering": 1,
   "nav_menu": {},
   "number_sections": true,
   "sideBar": true,
   "skip_h1_title": false,
   "title_cell": "Table of Contents",
   "title_sidebar": "Contents",
   "toc_cell": false,
   "toc_position": {
    "height": "calc(100% - 180px)",
    "left": "10px",
    "top": "150px",
    "width": "188.95px"
   },
   "toc_section_display": true,
   "toc_window_display": true
  },
  "varInspector": {
   "cols": {
    "lenName": 16,
    "lenType": 16,
    "lenVar": 40
   },
   "kernels_config": {
    "python": {
     "delete_cmd_postfix": "",
     "delete_cmd_prefix": "del ",
     "library": "var_list.py",
     "varRefreshCmd": "print(var_dic_list())"
    },
    "r": {
     "delete_cmd_postfix": ") ",
     "delete_cmd_prefix": "rm(",
     "library": "var_list.r",
     "varRefreshCmd": "cat(var_dic_list()) "
    }
   },
   "types_to_exclude": [
    "module",
    "function",
    "builtin_function_or_method",
    "instance",
    "_Feature"
   ],
   "window_display": false
  }
 },
 "nbformat": 4,
 "nbformat_minor": 5
}
